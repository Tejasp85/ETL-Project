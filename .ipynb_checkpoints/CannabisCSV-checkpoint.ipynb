{
 "cells": [
  {
   "cell_type": "code",
   "execution_count": null,
   "metadata": {},
   "outputs": [],
   "source": [
    "import pandas as pd\n",
    "from sqlalchemy import create_engine\n",
    "import numpy as np"
   ]
  },
  {
   "cell_type": "code",
   "execution_count": null,
   "metadata": {},
   "outputs": [],
   "source": [
    "file = \"Resources/cannabis.csv\"\n",
    "#cannabis_df = pd.read_csv(cannabis_file)\n",
    "#cannabis_df.head()\n",
    "cannabis_df = pd.read_csv(file)\n",
    "cannabis_df = pd.DataFrame(cannabis_df)\n",
    "#print(cannabis_df)\n",
    "#cannabis_df"
   ]
  },
  {
   "cell_type": "code",
   "execution_count": null,
   "metadata": {},
   "outputs": [],
   "source": [
    "cannabis_cols = [\"name\", \"type\", \"thc_level\", \"most_common_terpene\", \"relaxed\", \"happy\", \"euphoric\", \"uplifted\"]\n",
    "cannabis_transformed = cannabis_df[cannabis_cols].copy()\n",
    "#cannabis_transformed"
   ]
  },
  {
   "cell_type": "code",
   "execution_count": null,
   "metadata": {},
   "outputs": [],
   "source": [
    "cannabis_transformed = cannabis_transformed.rename(columns={\"name\": \"Name\",\"type\": \"Type\",\"thc_level\": \"THC_Level\",\"most_common_terpene\": \"Terpene\",\n",
    "                                                           \"relaxed\": \"Relaxed\", \"happy\": \"Happy\", \"euphoric\": \"Euphoric\", \"uplifted\": \"Uplifted\"\n",
    "                                                           })\n",
    "#cannabis_transformed"
   ]
  },
  {
   "cell_type": "code",
   "execution_count": null,
   "metadata": {},
   "outputs": [],
   "source": [
    "cannabis_transformed = cannabis_transformed.dropna()\n",
    "cannabis_transformed = cannabis_transformed.reset_index(drop=True)\n",
    "#cannabis_transformed"
   ]
  },
  {
   "cell_type": "code",
   "execution_count": null,
   "metadata": {},
   "outputs": [],
   "source": [
    "cannabis_transformed.to_csv('Resources/Updated_cannabis.csv')"
   ]
  },
  {
   "cell_type": "code",
   "execution_count": null,
   "metadata": {},
   "outputs": [],
   "source": [
    "file = \"Resources/leafly_strain_data.json\""
   ]
  },
  {
   "cell_type": "code",
   "execution_count": null,
   "metadata": {},
   "outputs": [],
   "source": [
    "strains_df = pd.read_json('Resources/leafly_strain_data.json')\n",
    "strains_df.head()"
   ]
  },
  {
   "cell_type": "code",
   "execution_count": null,
   "metadata": {},
   "outputs": [],
   "source": [
    "strains_df['effects'].dtypes"
   ]
  },
  {
   "cell_type": "code",
   "execution_count": null,
   "metadata": {},
   "outputs": [],
   "source": [
    "strains_df['effects'].astype(str)"
   ]
  },
  {
   "cell_type": "code",
   "execution_count": null,
   "metadata": {},
   "outputs": [],
   "source": [
    "# Adding two new columns to the existing dataframe.\n",
    "# bydefault splitting is done on the basis of single space.\n",
    "#strains_df[['relaxed','happy','euphoric','uplifted']] = strains_df.effects.str.split('', expand=True)\n",
    "   \n",
    "#strains_df\n",
    "strain_new = strains_df[\"effects\"].str.split(\" \", n = 1, expand = True)"
   ]
  },
  {
   "cell_type": "code",
   "execution_count": null,
   "metadata": {},
   "outputs": [],
   "source": [
    "# new data frame with split value columns\n",
    "strain_new = strains_df[\"effects\"].str.split(\" \", n = 1, expand = True)\n",
    "  \n",
    "# making separate first name column from new data frame\n",
    "strains_df[\"relaxed\"]= strain_new[]\n",
    "  \n",
    "# making separate last name column from new data frame\n",
    "strains_df[\"happy\"]= strain_new[]\n",
    "  \n",
    "# Dropping old Name columns\n",
    "#strains_df.drop(columns =[\"effects\"], inplace = True)\n",
    "  \n",
    "# df display\n",
    "strains_df"
   ]
  },
  {
   "cell_type": "code",
   "execution_count": null,
   "metadata": {},
   "outputs": [],
   "source": []
  },
  {
   "cell_type": "code",
   "execution_count": null,
   "metadata": {},
   "outputs": [],
   "source": []
  },
  {
   "cell_type": "code",
   "execution_count": null,
   "metadata": {},
   "outputs": [],
   "source": []
  }
 ],
 "metadata": {
  "kernelspec": {
   "display_name": "Python 3",
   "language": "python",
   "name": "python3"
  },
  "language_info": {
   "codemirror_mode": {
    "name": "ipython",
    "version": 3
   },
   "file_extension": ".py",
   "mimetype": "text/x-python",
   "name": "python",
   "nbconvert_exporter": "python",
   "pygments_lexer": "ipython3",
   "version": "3.8.5"
  }
 },
 "nbformat": 4,
 "nbformat_minor": 4
}
