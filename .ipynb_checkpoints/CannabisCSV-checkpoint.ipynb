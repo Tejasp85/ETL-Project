{
 "cells": [
  {
   "cell_type": "code",
   "execution_count": 1,
   "metadata": {},
   "outputs": [],
   "source": [
    "import pandas as pd\n",
    "from sqlalchemy import create_engine\n",
    "import numpy as np"
   ]
  },
  {
   "cell_type": "code",
   "execution_count": 2,
   "metadata": {},
   "outputs": [],
   "source": [
    "file = \"Resources/cannabis.csv\"\n",
    "#cannabis_df = pd.read_csv(cannabis_file)\n",
    "#cannabis_df.head()\n",
    "cannabis_df = pd.read_csv(file)\n",
    "cannabis_df = pd.DataFrame(cannabis_df)\n",
    "#print(cannabis_df)\n",
    "#cannabis_df"
   ]
  },
  {
   "cell_type": "code",
   "execution_count": 3,
   "metadata": {},
   "outputs": [],
   "source": [
    "cannabis_cols = [\"name\", \"type\", \"thc_level\", \"most_common_terpene\", \"relaxed\", \"happy\", \"euphoric\", \"uplifted\"]\n",
    "cannabis_transformed = cannabis_df[cannabis_cols].copy()\n",
    "#cannabis_transformed"
   ]
  },
  {
   "cell_type": "code",
   "execution_count": 4,
   "metadata": {},
   "outputs": [],
   "source": [
    "cannabis_transformed = cannabis_transformed.rename(columns={\"name\": \"Name\",\"type\": \"Type\",\"thc_level\": \"THC_Level\",\"most_common_terpene\": \"Terpene\",\n",
    "                                                           \"relaxed\": \"Relaxed\", \"happy\": \"Happy\", \"euphoric\": \"Euphoric\", \"uplifted\": \"Uplifted\"\n",
    "                                                           })\n",
    "#cannabis_transformed"
   ]
  },
  {
   "cell_type": "code",
   "execution_count": 5,
   "metadata": {},
   "outputs": [],
   "source": [
    "cannabis_transformed = cannabis_transformed.dropna()\n",
    "cannabis_transformed = cannabis_transformed.reset_index(drop=True)\n",
    "#cannabis_transformed"
   ]
  },
  {
   "cell_type": "code",
   "execution_count": 6,
   "metadata": {},
   "outputs": [],
   "source": [
    "cannabis_transformed.to_csv('Resources/Updated_cannabis.csv')"
   ]
  },
  {
   "cell_type": "code",
   "execution_count": 7,
   "metadata": {},
   "outputs": [],
   "source": [
    "file = \"Resources/leafly_strain_data.json\""
   ]
  },
  {
   "cell_type": "code",
   "execution_count": 8,
   "metadata": {},
   "outputs": [
    {
     "data": {
      "text/html": [
       "<div>\n",
       "<style scoped>\n",
       "    .dataframe tbody tr th:only-of-type {\n",
       "        vertical-align: middle;\n",
       "    }\n",
       "\n",
       "    .dataframe tbody tr th {\n",
       "        vertical-align: top;\n",
       "    }\n",
       "\n",
       "    .dataframe thead th {\n",
       "        text-align: right;\n",
       "    }\n",
       "</style>\n",
       "<table border=\"1\" class=\"dataframe\">\n",
       "  <thead>\n",
       "    <tr style=\"text-align: right;\">\n",
       "      <th></th>\n",
       "      <th>name</th>\n",
       "      <th>img_url</th>\n",
       "      <th>type</th>\n",
       "      <th>thc_level</th>\n",
       "      <th>most_common_terpene</th>\n",
       "      <th>description</th>\n",
       "      <th>effects</th>\n",
       "    </tr>\n",
       "  </thead>\n",
       "  <tbody>\n",
       "    <tr>\n",
       "      <th>0</th>\n",
       "      <td>GG4</td>\n",
       "      <td>https://images.leafly.com/flower-images/gg-4.jpg</td>\n",
       "      <td>Hybrid</td>\n",
       "      <td>20%</td>\n",
       "      <td>Caryophyllene</td>\n",
       "      <td>Original Glue (GG4), developed by GG Strains, ...</td>\n",
       "      <td>{'relaxed': '66%', 'happy': '54%', 'euphoric':...</td>\n",
       "    </tr>\n",
       "    <tr>\n",
       "      <th>1</th>\n",
       "      <td>Wedding Cake</td>\n",
       "      <td>https://images.leafly.com/flower-images/weddin...</td>\n",
       "      <td>Hybrid</td>\n",
       "      <td>22%</td>\n",
       "      <td>Limonene</td>\n",
       "      <td>Wedding Cake is a potent indica-hybrid marijua...</td>\n",
       "      <td>{'relaxed': '60%', 'happy': '50%', 'euphoric':...</td>\n",
       "    </tr>\n",
       "    <tr>\n",
       "      <th>2</th>\n",
       "      <td>Runtz</td>\n",
       "      <td>https://images.leafly.com/flower-images/runtz-...</td>\n",
       "      <td>Hybrid</td>\n",
       "      <td>19%</td>\n",
       "      <td>Limonene</td>\n",
       "      <td>Runtz is a rare hybrid marijuana strain by Coo...</td>\n",
       "      <td>{'happy': '62%', 'euphoric': '48%', 'relaxed':...</td>\n",
       "    </tr>\n",
       "    <tr>\n",
       "      <th>3</th>\n",
       "      <td>Gelato</td>\n",
       "      <td>https://images.leafly.com/flower-images/gelato...</td>\n",
       "      <td>Hybrid</td>\n",
       "      <td>17%</td>\n",
       "      <td>Caryophyllene</td>\n",
       "      <td>Gelato, aka Larry Bird, is a hybrid marijuana ...</td>\n",
       "      <td>{'relaxed': '54%', 'happy': '49%', 'euphoric':...</td>\n",
       "    </tr>\n",
       "    <tr>\n",
       "      <th>4</th>\n",
       "      <td>Blue Dream</td>\n",
       "      <td>https://images.leafly.com/flower-images/blue-d...</td>\n",
       "      <td>Hybrid</td>\n",
       "      <td>18%</td>\n",
       "      <td>Myrcene</td>\n",
       "      <td>Blue Dream is a sativa-dominant hybrid marijua...</td>\n",
       "      <td>{'happy': '57%', 'euphoric': '52%', 'relaxed':...</td>\n",
       "    </tr>\n",
       "  </tbody>\n",
       "</table>\n",
       "</div>"
      ],
      "text/plain": [
       "           name                                            img_url    type  \\\n",
       "0           GG4   https://images.leafly.com/flower-images/gg-4.jpg  Hybrid   \n",
       "1  Wedding Cake  https://images.leafly.com/flower-images/weddin...  Hybrid   \n",
       "2         Runtz  https://images.leafly.com/flower-images/runtz-...  Hybrid   \n",
       "3        Gelato  https://images.leafly.com/flower-images/gelato...  Hybrid   \n",
       "4    Blue Dream  https://images.leafly.com/flower-images/blue-d...  Hybrid   \n",
       "\n",
       "  thc_level most_common_terpene  \\\n",
       "0       20%       Caryophyllene   \n",
       "1       22%            Limonene   \n",
       "2       19%            Limonene   \n",
       "3       17%       Caryophyllene   \n",
       "4       18%             Myrcene   \n",
       "\n",
       "                                         description  \\\n",
       "0  Original Glue (GG4), developed by GG Strains, ...   \n",
       "1  Wedding Cake is a potent indica-hybrid marijua...   \n",
       "2  Runtz is a rare hybrid marijuana strain by Coo...   \n",
       "3  Gelato, aka Larry Bird, is a hybrid marijuana ...   \n",
       "4  Blue Dream is a sativa-dominant hybrid marijua...   \n",
       "\n",
       "                                             effects  \n",
       "0  {'relaxed': '66%', 'happy': '54%', 'euphoric':...  \n",
       "1  {'relaxed': '60%', 'happy': '50%', 'euphoric':...  \n",
       "2  {'happy': '62%', 'euphoric': '48%', 'relaxed':...  \n",
       "3  {'relaxed': '54%', 'happy': '49%', 'euphoric':...  \n",
       "4  {'happy': '57%', 'euphoric': '52%', 'relaxed':...  "
      ]
     },
     "execution_count": 8,
     "metadata": {},
     "output_type": "execute_result"
    }
   ],
   "source": [
    "strains_df = pd.read_json('Resources/leafly_strain_data.json')\n",
    "strains_df.head()"
   ]
  },
  {
   "cell_type": "code",
   "execution_count": 9,
   "metadata": {},
   "outputs": [
    {
     "data": {
      "text/plain": [
       "dtype('O')"
      ]
     },
     "execution_count": 9,
     "metadata": {},
     "output_type": "execute_result"
    }
   ],
   "source": [
    "strains_df['effects'].dtypes"
   ]
  },
  {
   "cell_type": "code",
   "execution_count": 10,
   "metadata": {},
   "outputs": [
    {
     "data": {
      "text/plain": [
       "0       {'relaxed': '66%', 'happy': '54%', 'euphoric':...\n",
       "1       {'relaxed': '60%', 'happy': '50%', 'euphoric':...\n",
       "2       {'happy': '62%', 'euphoric': '48%', 'relaxed':...\n",
       "3       {'relaxed': '54%', 'happy': '49%', 'euphoric':...\n",
       "4       {'happy': '57%', 'euphoric': '52%', 'relaxed':...\n",
       "                              ...                        \n",
       "4757                                                   {}\n",
       "4758    {'relaxed': '83%', 'euphoric': '66%', 'uplifte...\n",
       "4759    {'relaxed': '66%', 'sleepy': '50%', 'euphoric'...\n",
       "4760    {'uplifted': '75%', 'relaxed': '75%', 'hungry'...\n",
       "4761    {'uplifted': '100%', 'relaxed': '100%', 'talka...\n",
       "Name: effects, Length: 4762, dtype: object"
      ]
     },
     "execution_count": 10,
     "metadata": {},
     "output_type": "execute_result"
    }
   ],
   "source": [
    "strains_df['effects'].astype(str)"
   ]
  },
  {
   "cell_type": "code",
   "execution_count": 13,
   "metadata": {},
   "outputs": [
    {
     "data": {
      "text/html": [
       "<div>\n",
       "<style scoped>\n",
       "    .dataframe tbody tr th:only-of-type {\n",
       "        vertical-align: middle;\n",
       "    }\n",
       "\n",
       "    .dataframe tbody tr th {\n",
       "        vertical-align: top;\n",
       "    }\n",
       "\n",
       "    .dataframe thead th {\n",
       "        text-align: right;\n",
       "    }\n",
       "</style>\n",
       "<table border=\"1\" class=\"dataframe\">\n",
       "  <thead>\n",
       "    <tr style=\"text-align: right;\">\n",
       "      <th></th>\n",
       "      <th>0</th>\n",
       "    </tr>\n",
       "  </thead>\n",
       "  <tbody>\n",
       "    <tr>\n",
       "      <th>0</th>\n",
       "      <td>NaN</td>\n",
       "    </tr>\n",
       "    <tr>\n",
       "      <th>1</th>\n",
       "      <td>NaN</td>\n",
       "    </tr>\n",
       "    <tr>\n",
       "      <th>2</th>\n",
       "      <td>NaN</td>\n",
       "    </tr>\n",
       "    <tr>\n",
       "      <th>3</th>\n",
       "      <td>NaN</td>\n",
       "    </tr>\n",
       "    <tr>\n",
       "      <th>4</th>\n",
       "      <td>NaN</td>\n",
       "    </tr>\n",
       "    <tr>\n",
       "      <th>...</th>\n",
       "      <td>...</td>\n",
       "    </tr>\n",
       "    <tr>\n",
       "      <th>4757</th>\n",
       "      <td>NaN</td>\n",
       "    </tr>\n",
       "    <tr>\n",
       "      <th>4758</th>\n",
       "      <td>NaN</td>\n",
       "    </tr>\n",
       "    <tr>\n",
       "      <th>4759</th>\n",
       "      <td>NaN</td>\n",
       "    </tr>\n",
       "    <tr>\n",
       "      <th>4760</th>\n",
       "      <td>NaN</td>\n",
       "    </tr>\n",
       "    <tr>\n",
       "      <th>4761</th>\n",
       "      <td>NaN</td>\n",
       "    </tr>\n",
       "  </tbody>\n",
       "</table>\n",
       "<p>4762 rows × 1 columns</p>\n",
       "</div>"
      ],
      "text/plain": [
       "       0\n",
       "0    NaN\n",
       "1    NaN\n",
       "2    NaN\n",
       "3    NaN\n",
       "4    NaN\n",
       "...   ..\n",
       "4757 NaN\n",
       "4758 NaN\n",
       "4759 NaN\n",
       "4760 NaN\n",
       "4761 NaN\n",
       "\n",
       "[4762 rows x 1 columns]"
      ]
     },
     "execution_count": 13,
     "metadata": {},
     "output_type": "execute_result"
    }
   ],
   "source": [
    "# Adding two new columns to the existing dataframe.\n",
    "# bydefault splitting is done on the basis of single space.\n",
    "#strains_df[['relaxed','happy','euphoric','uplifted']] = strains_df.effects.str.split('', expand=True)\n",
    "   \n",
    "#strains_df\n",
    "strain_new = strains_df[\"effects\"].str.split(\" \", n = 1, expand = True)\n",
    "strain_new"
   ]
  },
  {
   "cell_type": "code",
   "execution_count": 12,
   "metadata": {},
   "outputs": [
    {
     "ename": "SyntaxError",
     "evalue": "invalid syntax (<ipython-input-12-acab12373f92>, line 5)",
     "output_type": "error",
     "traceback": [
      "\u001b[0;36m  File \u001b[0;32m\"<ipython-input-12-acab12373f92>\"\u001b[0;36m, line \u001b[0;32m5\u001b[0m\n\u001b[0;31m    strains_df[\"relaxed\"]= strain_new[]\u001b[0m\n\u001b[0m                                      ^\u001b[0m\n\u001b[0;31mSyntaxError\u001b[0m\u001b[0;31m:\u001b[0m invalid syntax\n"
     ]
    }
   ],
   "source": [
    "# new data frame with split value columns\n",
    "strain_new = strains_df[\"effects\"].str.split(\" \", n = 1, expand = True)\n",
    "  \n",
    "# making separate first name column from new data frame\n",
    "strains_df[\"relaxed\"]= strain_new[]\n",
    "  \n",
    "# making separate last name column from new data frame\n",
    "strains_df[\"happy\"]= strain_new[]\n",
    "  \n",
    "# Dropping old Name columns\n",
    "#strains_df.drop(columns =[\"effects\"], inplace = True)\n",
    "  \n",
    "# df display\n",
    "strains_df"
   ]
  },
  {
   "cell_type": "code",
   "execution_count": null,
   "metadata": {},
   "outputs": [],
   "source": []
  },
  {
   "cell_type": "code",
   "execution_count": null,
   "metadata": {},
   "outputs": [],
   "source": []
  },
  {
   "cell_type": "code",
   "execution_count": null,
   "metadata": {},
   "outputs": [],
   "source": []
  }
 ],
 "metadata": {
  "kernelspec": {
   "display_name": "Python 3",
   "language": "python",
   "name": "python3"
  },
  "language_info": {
   "codemirror_mode": {
    "name": "ipython",
    "version": 3
   },
   "file_extension": ".py",
   "mimetype": "text/x-python",
   "name": "python",
   "nbconvert_exporter": "python",
   "pygments_lexer": "ipython3",
   "version": "3.8.5"
  }
 },
 "nbformat": 4,
 "nbformat_minor": 4
}
